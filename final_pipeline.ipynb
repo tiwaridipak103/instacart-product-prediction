{
  "nbformat": 4,
  "nbformat_minor": 0,
  "metadata": {
    "colab": {
      "name": "final_pipeline.ipynb",
      "provenance": [],
      "collapsed_sections": [],
      "machine_shape": "hm"
    },
    "kernelspec": {
      "display_name": "Python 3",
      "language": "python",
      "name": "python3"
    },
    "language_info": {
      "codemirror_mode": {
        "name": "ipython",
        "version": 3
      },
      "file_extension": ".py",
      "mimetype": "text/x-python",
      "name": "python",
      "nbconvert_exporter": "python",
      "pygments_lexer": "ipython3",
      "version": "3.7.5"
    }
  },
  "cells": [
    {
      "cell_type": "code",
      "metadata": {
        "id": "Z0PqYIS1wz_E"
      },
      "source": [
        "import numpy as np\r\n",
        "import pandas as pd \r\n",
        "import pickle\r\n",
        "from datetime import datetime\r\n",
        "from sklearn.metrics import f1_score"
      ],
      "execution_count": null,
      "outputs": []
    },
    {
      "cell_type": "code",
      "metadata": {
        "id": "ltUPwdtlw0CI"
      },
      "source": [
        "train_File = open('train_data1.pkl','rb')\r\n",
        "train_data = pickle.load(train_File)\r\n",
        "train_File.close()\r\n",
        "\r\n",
        "test_File = open('test_data.pkl','rb')\r\n",
        "test_data = pickle.load(test_File)\r\n",
        "test_File.close()\r\n",
        "\r\n",
        "model_file = open('finalized_model5.sav','rb')\r\n",
        "model = pickle.load(model_file)\r\n",
        "model_file.close()"
      ],
      "execution_count": null,
      "outputs": []
    },
    {
      "cell_type": "code",
      "metadata": {
        "id": "IPleNpHyw5GL"
      },
      "source": [
        "def final(order_id):\r\n",
        "  global test_data , model\r\n",
        "  if order_id not in test_data.order_id.unique():\r\n",
        "    print('Please enter order_id from the test data')\r\n",
        "  else:\r\n",
        "    test = test_data[(test_data['order_id'] == order_id)]\r\n",
        "    pred = model.predict(test.drop(['order_id','product_id'],axis=1))\r\n",
        "    test['predict_label'] = pred\r\n",
        "    test_1 = test[(test['predict_label']==1)]\r\n",
        "    products = ' '.join(test_1['product_id'].astype(str).values)\r\n",
        "    return products"
      ],
      "execution_count": null,
      "outputs": []
    },
    {
      "cell_type": "code",
      "metadata": {
        "colab": {
          "base_uri": "https://localhost:8080/"
        },
        "id": "-sSg0Kb2xBbT",
        "outputId": "bd47c19a-2015-405e-d8d8-e89459551043"
      },
      "source": [
        "print('enter order_id from test data')\r\n",
        "order_id = eval(input('Order_id:- '))\r\n",
        "if order_id not in test_data.order_id.unique():\r\n",
        "  print('Please enter order_id from the test data')\r\n",
        "else:\r\n",
        "  start = datetime.now()\r\n",
        "  print(f'The product_id for given order_id  are {final(order_id)}')\r\n",
        "  print(f'time taken {datetime.now()-start}')"
      ],
      "execution_count": null,
      "outputs": [
        {
          "output_type": "stream",
          "text": [
            "enter order_id from test data\n",
            "Order_id:- 17\n",
            "The product_id for given order_id  are 13107 38777 21463\n",
            "time taken 0:00:00.054607\n"
          ],
          "name": "stdout"
        }
      ]
    },
    {
      "cell_type": "code",
      "metadata": {
        "colab": {
          "base_uri": "https://localhost:8080/"
        },
        "id": "-jk9Jmv7x4pw",
        "outputId": "321edb5e-cd4f-4f6a-d3b8-7a753c18e7db"
      },
      "source": [
        "print('enter order_id from test data')\r\n",
        "order_id = eval(input('Order_id:- '))\r\n",
        "if order_id not in test_data.order_id.unique():\r\n",
        "  print('Please enter order_id from the test data')\r\n",
        "else:\r\n",
        "  start = datetime.now()\r\n",
        "  print(f'The product_id for given order_id  are {final(order_id)}')\r\n",
        "  print(f'time taken {datetime.now()-start}')"
      ],
      "execution_count": null,
      "outputs": [
        {
          "output_type": "stream",
          "text": [
            "enter order_id from test data\n",
            "Order_id:- 137\n",
            "The product_id for given order_id  are 5134 38689 24852 41787 23794 25890 29594 2326\n",
            "time taken 0:00:00.077323\n"
          ],
          "name": "stdout"
        }
      ]
    },
    {
      "cell_type": "code",
      "metadata": {
        "colab": {
          "base_uri": "https://localhost:8080/"
        },
        "id": "B25Wk3UQ20rk",
        "outputId": "832da5dc-1e06-45e1-f25c-d12ecf9bf454"
      },
      "source": [
        "print('enter order_id from test data')\r\n",
        "order_id = eval(input('Order_id:- '))\r\n",
        "if order_id not in test_data.order_id.unique():\r\n",
        "  print('Please enter order_id from the test data')\r\n",
        "else:\r\n",
        "  start = datetime.now()\r\n",
        "  print(f'The product_id for given order_id  are {final(order_id)}')\r\n",
        "  print(f'time taken {datetime.now()-start}')"
      ],
      "execution_count": null,
      "outputs": [
        {
          "output_type": "stream",
          "text": [
            "enter order_id from test data\n",
            "Order_id:- 418\n",
            "The product_id for given order_id  are 47766 44910 4605 30489 40268 1503 41950 13702 45364 5262 1970\n",
            "time taken 0:00:00.053022\n"
          ],
          "name": "stdout"
        }
      ]
    },
    {
      "cell_type": "code",
      "metadata": {
        "id": "uSbAHjjZw9Wl"
      },
      "source": [
        "def final2(order_id):\r\n",
        "  global train_data , model\r\n",
        "  train = train_data[(train_data['order_id']==order_id)]\r\n",
        "  predict = model.predict(train.drop(['order_id','product_id','reordered'],axis=1))\r\n",
        "  train['predict'] = predict\r\n",
        "  train = train[['reordered','predict']]\r\n",
        "  return train"
      ],
      "execution_count": null,
      "outputs": []
    },
    {
      "cell_type": "code",
      "metadata": {
        "colab": {
          "base_uri": "https://localhost:8080/"
        },
        "id": "XwJwKMFoxJSy",
        "outputId": "4c852768-16f4-4c5d-c5f5-9b9203b824d1"
      },
      "source": [
        "print('enter order_id from train data')\r\n",
        "order_id = eval(input('Order_id:- '))\r\n",
        "if order_id not in train_data.order_id.unique():\r\n",
        "  print('Please enter order_id from the train data')\r\n",
        "else:\r\n",
        "  start = datetime.now()\r\n",
        "  train = final2(order_id)\r\n",
        "  print(f\"f1 score for given order_id {order_id}  is {f1_score(train['reordered'],train['predict'])}.\")\r\n",
        "  print(f'time taken {datetime.now()-start}')"
      ],
      "execution_count": null,
      "outputs": [
        {
          "output_type": "stream",
          "text": [
            "enter order_id from train data\n",
            "Order_id:- 1\n",
            "f1 score for given order_id 1  is 0.5714285714285715.\n",
            "time taken 0:00:00.022207\n"
          ],
          "name": "stdout"
        }
      ]
    },
    {
      "cell_type": "code",
      "metadata": {
        "colab": {
          "base_uri": "https://localhost:8080/"
        },
        "id": "P7tmjCKMyCW-",
        "outputId": "ce9e90b6-9709-4213-8659-193798f4ea31"
      },
      "source": [
        "print('enter order_id from train data')\r\n",
        "order_id = eval(input('Order_id:- '))\r\n",
        "if order_id not in train_data.order_id.unique():\r\n",
        "  print('Please enter order_id from the train data')\r\n",
        "else:\r\n",
        "  start = datetime.now()\r\n",
        "  train = final2(order_id)\r\n",
        "  print(f\"f1 score for given order_id {order_id}  is {f1_score(train['reordered'],train['predict'])}.\")\r\n",
        "  print(f'time taken {datetime.now()-start}')"
      ],
      "execution_count": null,
      "outputs": [
        {
          "output_type": "stream",
          "text": [
            "enter order_id from train data\n",
            "Order_id:- 1770556\n",
            "f1 score for given order_id 1770556  is 0.6666666666666667.\n",
            "time taken 0:00:00.022030\n"
          ],
          "name": "stdout"
        }
      ]
    },
    {
      "cell_type": "code",
      "metadata": {
        "colab": {
          "base_uri": "https://localhost:8080/"
        },
        "id": "bLyw1YhE3A1z",
        "outputId": "35aa49eb-0921-4103-b6a3-636e23549343"
      },
      "source": [
        "print('enter order_id from train data')\r\n",
        "order_id = eval(input('Order_id:- '))\r\n",
        "if order_id not in train_data.order_id.unique():\r\n",
        "  print('Please enter order_id from the train data')\r\n",
        "else:\r\n",
        "  start = datetime.now()\r\n",
        "  train = final2(order_id)\r\n",
        "  print(f\"f1 score for given order_id {order_id}  is {f1_score(train['reordered'],train['predict'])}.\")\r\n",
        "  print(f'time taken {datetime.now()-start}')"
      ],
      "execution_count": null,
      "outputs": [
        {
          "output_type": "stream",
          "text": [
            "enter order_id from train data\n",
            "Order_id:- 1955\n",
            "f1 score for given order_id 1955  is 0.5185185185185186.\n",
            "time taken 0:00:00.025291\n"
          ],
          "name": "stdout"
        }
      ]
    }
  ]
}